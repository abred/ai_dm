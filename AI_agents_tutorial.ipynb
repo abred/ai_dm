{
  "nbformat": 4,
  "nbformat_minor": 0,
  "metadata": {
    "colab": {
      "name": "AI_agents_tutorial.ipynb",
      "provenance": [],
      "collapsed_sections": []
    },
    "kernelspec": {
      "name": "python3",
      "display_name": "Python 3"
    },
    "language_info": {
      "name": "python"
    }
  },
  "cells": [
    {
      "cell_type": "markdown",
      "source": [
        "The following command installs our library"
      ],
      "metadata": {
        "id": "1uQ6veFK8Wa2"
      }
    },
    {
      "cell_type": "code",
      "execution_count": 1,
      "metadata": {
        "colab": {
          "base_uri": "https://localhost:8080/"
        },
        "id": "Z_y4xKsE51Nw",
        "outputId": "8271b45b-c87a-42db-adff-4e51099689fb"
      },
      "outputs": [
        {
          "output_type": "stream",
          "name": "stdout",
          "text": [
            "Collecting git+https://github.com/sarah-keren/AI_agents\n",
            "  Cloning https://github.com/sarah-keren/AI_agents to /tmp/pip-req-build-pdwr_d1b\n",
            "  Running command git clone -q https://github.com/sarah-keren/AI_agents /tmp/pip-req-build-pdwr_d1b\n",
            "  Installing build dependencies ... \u001b[?25l\u001b[?25hdone\n",
            "  Getting requirements to build wheel ... \u001b[?25l\u001b[?25hdone\n",
            "  Installing backend dependencies ... \u001b[?25l\u001b[?25hdone\n",
            "    Preparing wheel metadata ... \u001b[?25l\u001b[?25hdone\n",
            "Collecting pygame==2.1.2\n",
            "  Downloading pygame-2.1.2-cp37-cp37m-manylinux_2_17_x86_64.manylinux2014_x86_64.whl (21.8 MB)\n",
            "\u001b[K     |████████████████████████████████| 21.8 MB 605 kB/s \n",
            "\u001b[?25hCollecting gym==0.23.0\n",
            "  Downloading gym-0.23.0.tar.gz (624 kB)\n",
            "\u001b[K     |████████████████████████████████| 624 kB 45.9 MB/s \n",
            "\u001b[?25h  Installing build dependencies ... \u001b[?25l\u001b[?25hdone\n",
            "  Getting requirements to build wheel ... \u001b[?25l\u001b[?25hdone\n",
            "    Preparing wheel metadata ... \u001b[?25l\u001b[?25hdone\n",
            "Requirement already satisfied: numpy>=1.18.0 in /usr/local/lib/python3.7/dist-packages (from gym==0.23.0->AI-agents==0.0.0) (1.21.5)\n",
            "Requirement already satisfied: importlib-metadata>=4.10.0 in /usr/local/lib/python3.7/dist-packages (from gym==0.23.0->AI-agents==0.0.0) (4.11.2)\n",
            "Collecting gym-notices>=0.0.4\n",
            "  Downloading gym_notices-0.0.6-py3-none-any.whl (2.7 kB)\n",
            "Requirement already satisfied: cloudpickle>=1.2.0 in /usr/local/lib/python3.7/dist-packages (from gym==0.23.0->AI-agents==0.0.0) (1.3.0)\n",
            "Requirement already satisfied: zipp>=0.5 in /usr/local/lib/python3.7/dist-packages (from importlib-metadata>=4.10.0->gym==0.23.0->AI-agents==0.0.0) (3.7.0)\n",
            "Requirement already satisfied: typing-extensions>=3.6.4 in /usr/local/lib/python3.7/dist-packages (from importlib-metadata>=4.10.0->gym==0.23.0->AI-agents==0.0.0) (3.10.0.2)\n",
            "Building wheels for collected packages: AI-agents, gym\n",
            "  Building wheel for AI-agents (PEP 517) ... \u001b[?25l\u001b[?25hdone\n",
            "  Created wheel for AI-agents: filename=AI_agents-0.0.0-py3-none-any.whl size=24123 sha256=f4dcc1d54ecec6d8481324b92a9f71ff3928a41ad90bceab2019cba3a159faaf\n",
            "  Stored in directory: /tmp/pip-ephem-wheel-cache-1z44k4ih/wheels/08/08/3e/1df9927ec9256a67bec956d630e9b32863c3dd637e2e4f971b\n",
            "  Building wheel for gym (PEP 517) ... \u001b[?25l\u001b[?25hdone\n",
            "  Created wheel for gym: filename=gym-0.23.0-py3-none-any.whl size=697660 sha256=ae94fa9a355e1f3bbed342d47f64e00a43f0d1f5d4166e6c7b9c51d14042fa5c\n",
            "  Stored in directory: /root/.cache/pip/wheels/f0/7e/16/4d727df048fdb96518ec5c02266e55b98bc398837353852a6a\n",
            "Successfully built AI-agents gym\n",
            "Installing collected packages: gym-notices, pygame, gym, AI-agents\n",
            "  Attempting uninstall: gym\n",
            "    Found existing installation: gym 0.17.3\n",
            "    Uninstalling gym-0.17.3:\n",
            "      Successfully uninstalled gym-0.17.3\n",
            "Successfully installed AI-agents-0.0.0 gym-0.23.0 gym-notices-0.0.6 pygame-2.1.2\n"
          ]
        }
      ],
      "source": [
        "!pip install git+https://github.com/sarah-keren/AI_agents\n"
      ]
    },
    {
      "cell_type": "markdown",
      "source": [
        "We will be working with Open Ai's Taxi domain that looks like this\n"
      ],
      "metadata": {
        "id": "Hm_e6WRm-oGY"
      }
    },
    {
      "cell_type": "code",
      "source": [
        "import gym\n",
        "\n",
        "env = gym.make(\"Taxi-v3\").env\n",
        "\n",
        "env.reset ()\n",
        "env.render()"
      ],
      "metadata": {
        "colab": {
          "base_uri": "https://localhost:8080/"
        },
        "id": "AzvjeoJ7-sS0",
        "outputId": "6c43dd06-cae2-4e72-a144-969d4f2dec11"
      },
      "execution_count": 2,
      "outputs": [
        {
          "output_type": "stream",
          "name": "stdout",
          "text": [
            "+---------+\n",
            "|\u001b[34;1mR\u001b[0m: | : :G|\n",
            "| : | : : |\n",
            "| : : : : |\n",
            "|\u001b[43m \u001b[0m| : | : |\n",
            "|\u001b[35mY\u001b[0m| : |B: |\n",
            "+---------+\n",
            "\n"
          ]
        }
      ]
    },
    {
      "cell_type": "markdown",
      "source": [
        "The filled square represents the taxi, which is yellow without a passenger and green with a passenger. The pipes (\"|\") represent walls which the taxi cannot traverse. R, G, Y, B are the possible pickup and destination locations. The passenger can also be in the taxi. The blue letter represents the current passenger pick-up location, and the purple letter is the current destination.\n",
        "\n",
        "The actions space is:\n",
        "\n",
        "0 = south 1 = north 2 = east 3 = west 4 = pickup 5 = dropoff\n",
        "\n",
        "The state encoding is as follows (play around with the values)"
      ],
      "metadata": {
        "id": "cChPK3m3-yx5"
      }
    },
    {
      "cell_type": "code",
      "metadata": {
        "id": "IvF8S_aLDaex",
        "colab": {
          "base_uri": "https://localhost:8080/"
        },
        "outputId": "c29d53c9-cfc1-49cb-b62a-60dec7e009b7"
      },
      "source": [
        "state = env.encode(1, 3, 4, 1) # (taxi row, taxi column, passenger index, destination index)\n",
        "print(\"State:\", state)\n",
        "\n",
        "env.render()\n",
        "env.unwrapped.s = state\n",
        "env.render()"
      ],
      "execution_count": 3,
      "outputs": [
        {
          "output_type": "stream",
          "name": "stdout",
          "text": [
            "State: 177\n",
            "+---------+\n",
            "|\u001b[34;1mR\u001b[0m: | : :G|\n",
            "| : | : : |\n",
            "| : : : : |\n",
            "|\u001b[43m \u001b[0m| : | : |\n",
            "|\u001b[35mY\u001b[0m| : |B: |\n",
            "+---------+\n",
            "\n",
            "+---------+\n",
            "|R: | : :\u001b[35mG\u001b[0m|\n",
            "| : | :\u001b[42m_\u001b[0m: |\n",
            "| : : : : |\n",
            "| | : | : |\n",
            "|Y| : |B: |\n",
            "+---------+\n",
            "\n"
          ]
        }
      ]
    },
    {
      "cell_type": "markdown",
      "source": [
        "Now let's import the GymProblem which will wrap the Taxi domain and the search methods we want to apply"
      ],
      "metadata": {
        "id": "aO9OZBTz9mWK"
      }
    },
    {
      "cell_type": "code",
      "source": [
        "import gym\n",
        "from AI_agents.Environments.gym_problem import GymProblem\n",
        "from AI_agents.Search.best_first_search import best_first_search, breadth_first_search, depth_first_search, a_star, depth_first_search_l\n",
        "import AI_agents.Search.utils as utils\n",
        "import AI_agents.Search.defs as defs\n",
        "import AI_agents.Search.heuristic as heuristic\n",
        "\n",
        "\n"
      ],
      "metadata": {
        "id": "9LwxqftZ56dt"
      },
      "execution_count": 11,
      "outputs": []
    },
    {
      "cell_type": "markdown",
      "source": [
        "The following will create and recreate the taxi environment we want to explore"
      ],
      "metadata": {
        "id": "0fmQBRQQ_SoC"
      }
    },
    {
      "cell_type": "code",
      "source": [
        "def create_env():\n",
        "\n",
        "    # define the environment\n",
        "    taxi_env = gym.make(\"Taxi-v3\").env\n",
        "    taxi_env.reset()\n",
        "    init_state = taxi_env.encode(0, 3, 4, 1)  # (taxi row, taxi column, passenger index, destination index)\n",
        "    taxi_row, taxi_col, pass_idx, dest_idx = taxi_env.decode(init_state)\n",
        "    print(taxi_row)\n",
        "    taxi_env.unwrapped.s = init_state\n",
        "    print(\"State:\", init_state)\n",
        "    taxi_env.render()\n",
        "    return taxi_env   \n"
      ],
      "metadata": {
        "id": "YcMY5uWD_EVq"
      },
      "execution_count": 5,
      "outputs": []
    },
    {
      "cell_type": "markdown",
      "source": [
        "And now let's run Breadth First Search\n"
      ],
      "metadata": {
        "id": "gLwnkW4N-5fW"
      }
    },
    {
      "cell_type": "code",
      "source": [
        "taxi_env = create_env()\n",
        "\n",
        "# create a wrapper of the environment to the search\n",
        "taxi_p = GymProblem(taxi_env, taxi_env.unwrapped.s)\n",
        "\n",
        "\n",
        "# perform BFS\n",
        "[best_value, best_node, best_plan, explored_count, ex_terminated] = breadth_first_search(problem=taxi_p,\n",
        "                                                                                         log=True,\n",
        "                                                                                         log_file=None,\n",
        "                                                                                         iter_limit=defs.NA,\n",
        "                                                                                         time_limit=defs.NA,\n",
        "                                                                                        )\n",
        "\n",
        "\n",
        "print(best_plan)\n",
        "for action_id in best_plan:\n",
        "    taxi_p.apply_action(action_id)\n",
        "    taxi_p.env.render()\n"
      ],
      "metadata": {
        "colab": {
          "base_uri": "https://localhost:8080/"
        },
        "id": "B4xAGGAuA22S",
        "outputId": "8d571cf8-71e5-425f-ed56-bb3bfce60fb7"
      },
      "execution_count": 6,
      "outputs": [
        {
          "output_type": "stream",
          "name": "stdout",
          "text": [
            "0\n",
            "State: 77\n",
            "+---------+\n",
            "|R: | :\u001b[42m_\u001b[0m:\u001b[35mG\u001b[0m|\n",
            "| : | : : |\n",
            "| : : : : |\n",
            "| | : | : |\n",
            "|Y| : |B: |\n",
            "+---------+\n",
            "\n",
            "best_first_design(node) node number 1 cur_node:<Node 77>\n",
            "InMethod best_first_design(node): explored_count:1 cur_node:<Node 77>, node_eval_time:0.000\n",
            "best_first_design(node) node number 2 cur_node:<Node 177>\n",
            "InMethod best_first_design(node): explored_count:2 cur_node:<Node 177>, node_eval_time:0.000\n",
            "best_first_design(node) node number 3 cur_node:<Node 97>\n",
            "InMethod best_first_design(node): explored_count:3 cur_node:<Node 97>, node_eval_time:0.000\n",
            "best_first_design(node) node number 4 cur_node:<Node 57>\n",
            "InMethod best_first_design(node): explored_count:4 cur_node:<Node 57>, node_eval_time:0.000\n",
            "best_first_design(node) node number 5 cur_node:<Node 277>\n",
            "InMethod best_first_design(node): explored_count:5 cur_node:<Node 277>, node_eval_time:0.000\n",
            "best_first_design(node) node number 6 cur_node:<Node 197>\n",
            "InMethod best_first_design(node): explored_count:6 cur_node:<Node 197>, node_eval_time:0.000\n",
            "best_first_design(node) node number 7 cur_node:<Node 157>\n",
            "InMethod best_first_design(node): explored_count:7 cur_node:<Node 157>, node_eval_time:0.000\n",
            "best_first_design(node) node number 8 cur_node:<Node 85>\n",
            "InMethod best_first_design(node): explored_count:8 cur_node:<Node 85>, node_eval_time:0.000\n",
            "solution is: ['2', '5']\n",
            "['2', '5']\n",
            "+---------+\n",
            "|R: | : :\u001b[35m\u001b[42mG\u001b[0m\u001b[0m|\n",
            "| : | : : |\n",
            "| : : : : |\n",
            "| | : | : |\n",
            "|Y| : |B: |\n",
            "+---------+\n",
            "  (East)\n",
            "+---------+\n",
            "|R: | : :\u001b[35m\u001b[34;1m\u001b[43mG\u001b[0m\u001b[0m\u001b[0m|\n",
            "| : | : : |\n",
            "| : : : : |\n",
            "| | : | : |\n",
            "|Y| : |B: |\n",
            "+---------+\n",
            "  (Dropoff)\n"
          ]
        }
      ]
    },
    {
      "cell_type": "markdown",
      "source": [
        "Let's see the same methods, but now with the explicit call to BestFirstSearch (which shows us how Breadth First Search is a special case of BestFirstSearch)"
      ],
      "metadata": {
        "id": "j-OTJpcX9-BH"
      }
    },
    {
      "cell_type": "code",
      "source": [
        "taxi_env = create_env()\n",
        "\n",
        "# create a wrapper of the environment to the search\n",
        "taxi_p = GymProblem(taxi_env, taxi_env.unwrapped.s)\n",
        "\n",
        "# perform BFS\n",
        "[best_value, best_node, best_plan, explored_count, ex_terminated] = best_first_search(problem=taxi_p,\n",
        "                                                                                      frontier=utils.FIFOQueue(),\n",
        "                                                                                      closed_list=utils.ClosedListOfKeys(),\n",
        "                                                                                      termination_criteria=utils.TerminationCriteriaGoalStateReached(),\n",
        "                                                                                      evaluation_criteria=utils.EvaluationCriteriaGoalCondition(),\n",
        "                                                                                      prune_func=None,\n",
        "                                                                                      log=True, log_file=None,\n",
        "                                                                                      iter_limit=defs.NA,\n",
        "                                                                                      time_limit=defs.NA,\n",
        "                                                                                      )\n",
        "print(best_plan)\n",
        "for action_id in best_plan:\n",
        "    taxi_p.apply_action(action_id)\n",
        "    taxi_p.env.render()"
      ],
      "metadata": {
        "colab": {
          "base_uri": "https://localhost:8080/"
        },
        "id": "JlLW6PfA_ciO",
        "outputId": "95cac31c-e63b-45b4-f102-54d8b1094d7c"
      },
      "execution_count": 7,
      "outputs": [
        {
          "output_type": "stream",
          "name": "stdout",
          "text": [
            "0\n",
            "State: 77\n",
            "+---------+\n",
            "|R: | :\u001b[42m_\u001b[0m:\u001b[35mG\u001b[0m|\n",
            "| : | : : |\n",
            "| : : : : |\n",
            "| | : | : |\n",
            "|Y| : |B: |\n",
            "+---------+\n",
            "\n",
            "best_first_design(node) node number 1 cur_node:<Node 77>\n",
            "InMethod best_first_design(node): explored_count:1 cur_node:<Node 77>, node_eval_time:0.000\n",
            "best_first_design(node) node number 2 cur_node:<Node 177>\n",
            "InMethod best_first_design(node): explored_count:2 cur_node:<Node 177>, node_eval_time:0.000\n",
            "best_first_design(node) node number 3 cur_node:<Node 97>\n",
            "InMethod best_first_design(node): explored_count:3 cur_node:<Node 97>, node_eval_time:0.000\n",
            "best_first_design(node) node number 4 cur_node:<Node 57>\n",
            "InMethod best_first_design(node): explored_count:4 cur_node:<Node 57>, node_eval_time:0.000\n",
            "best_first_design(node) node number 5 cur_node:<Node 277>\n",
            "InMethod best_first_design(node): explored_count:5 cur_node:<Node 277>, node_eval_time:0.000\n",
            "best_first_design(node) node number 6 cur_node:<Node 197>\n",
            "InMethod best_first_design(node): explored_count:6 cur_node:<Node 197>, node_eval_time:0.000\n",
            "best_first_design(node) node number 7 cur_node:<Node 157>\n",
            "InMethod best_first_design(node): explored_count:7 cur_node:<Node 157>, node_eval_time:0.000\n",
            "best_first_design(node) node number 8 cur_node:<Node 85>\n",
            "InMethod best_first_design(node): explored_count:8 cur_node:<Node 85>, node_eval_time:0.000\n",
            "solution is: ['2', '5']\n",
            "['2', '5']\n",
            "+---------+\n",
            "|R: | : :\u001b[35m\u001b[42mG\u001b[0m\u001b[0m|\n",
            "| : | : : |\n",
            "| : : : : |\n",
            "| | : | : |\n",
            "|Y| : |B: |\n",
            "+---------+\n",
            "  (East)\n",
            "+---------+\n",
            "|R: | : :\u001b[35m\u001b[34;1m\u001b[43mG\u001b[0m\u001b[0m\u001b[0m|\n",
            "| : | : : |\n",
            "| : : : : |\n",
            "| | : | : |\n",
            "|Y| : |B: |\n",
            "+---------+\n",
            "  (Dropoff)\n"
          ]
        }
      ]
    },
    {
      "cell_type": "markdown",
      "source": [
        "**And** now, let's run DFS"
      ],
      "metadata": {
        "id": "1d0Sr45BBKeo"
      }
    },
    {
      "cell_type": "code",
      "source": [
        "taxi_env = create_env()\n",
        "# create a wrapper of the environment to the search\n",
        "taxi_p = GymProblem(taxi_env, taxi_env.unwrapped.s)\n",
        "\n",
        "# perform DFS\n",
        "[best_value, best_node, best_plan, explored_count, ex_terminated] = depth_first_search(problem=taxi_p,\n",
        "                                                                                       log=True,\n",
        "                                                                                       log_file=None,\n",
        "                                                                                       iter_limit=defs.NA,\n",
        "                                                                                       time_limit=defs.NA,\n",
        "                                                                                       )\n",
        "\n",
        "print(best_plan)\n",
        "for action_id in best_plan:\n",
        "    taxi_p.apply_action(action_id)\n",
        "    taxi_p.env.render()"
      ],
      "metadata": {
        "colab": {
          "base_uri": "https://localhost:8080/"
        },
        "id": "FckxgAXG92ru",
        "outputId": "fe611952-52bc-4a3a-aae9-7c862c78f379"
      },
      "execution_count": 8,
      "outputs": [
        {
          "output_type": "stream",
          "name": "stdout",
          "text": [
            "0\n",
            "State: 77\n",
            "+---------+\n",
            "|R: | :\u001b[42m_\u001b[0m:\u001b[35mG\u001b[0m|\n",
            "| : | : : |\n",
            "| : : : : |\n",
            "| | : | : |\n",
            "|Y| : |B: |\n",
            "+---------+\n",
            "\n",
            "best_first_design(node) node number 1 cur_node:<Node 77>\n",
            "InMethod best_first_design(node): explored_count:1 cur_node:<Node 77>, node_eval_time:0.000\n",
            "best_first_design(node) node number 2 cur_node:<Node 57>\n",
            "InMethod best_first_design(node): explored_count:2 cur_node:<Node 57>, node_eval_time:0.000\n",
            "best_first_design(node) node number 3 cur_node:<Node 157>\n",
            "InMethod best_first_design(node): explored_count:3 cur_node:<Node 157>, node_eval_time:0.000\n",
            "best_first_design(node) node number 4 cur_node:<Node 257>\n",
            "InMethod best_first_design(node): explored_count:4 cur_node:<Node 257>, node_eval_time:0.000\n",
            "best_first_design(node) node number 5 cur_node:<Node 237>\n",
            "InMethod best_first_design(node): explored_count:5 cur_node:<Node 237>, node_eval_time:0.000\n",
            "best_first_design(node) node number 6 cur_node:<Node 217>\n",
            "InMethod best_first_design(node): explored_count:6 cur_node:<Node 217>, node_eval_time:0.000\n",
            "best_first_design(node) node number 7 cur_node:<Node 117>\n",
            "InMethod best_first_design(node): explored_count:7 cur_node:<Node 117>, node_eval_time:0.000\n",
            "best_first_design(node) node number 8 cur_node:<Node 17>\n",
            "InMethod best_first_design(node): explored_count:8 cur_node:<Node 17>, node_eval_time:0.000\n",
            "best_first_design(node) node number 9 cur_node:<Node 1>\n",
            "InMethod best_first_design(node): explored_count:9 cur_node:<Node 1>, node_eval_time:0.000\n",
            "best_first_design(node) node number 10 cur_node:<Node 21>\n",
            "InMethod best_first_design(node): explored_count:10 cur_node:<Node 21>, node_eval_time:0.000\n",
            "best_first_design(node) node number 11 cur_node:<Node 121>\n",
            "InMethod best_first_design(node): explored_count:11 cur_node:<Node 121>, node_eval_time:0.000\n",
            "best_first_design(node) node number 12 cur_node:<Node 221>\n",
            "InMethod best_first_design(node): explored_count:12 cur_node:<Node 221>, node_eval_time:0.000\n",
            "best_first_design(node) node number 13 cur_node:<Node 201>\n",
            "InMethod best_first_design(node): explored_count:13 cur_node:<Node 201>, node_eval_time:0.000\n",
            "best_first_design(node) node number 14 cur_node:<Node 301>\n",
            "InMethod best_first_design(node): explored_count:14 cur_node:<Node 301>, node_eval_time:0.000\n",
            "best_first_design(node) node number 15 cur_node:<Node 401>\n",
            "InMethod best_first_design(node): explored_count:15 cur_node:<Node 401>, node_eval_time:0.000\n",
            "best_first_design(node) node number 16 cur_node:<Node 241>\n",
            "InMethod best_first_design(node): explored_count:16 cur_node:<Node 241>, node_eval_time:0.000\n",
            "best_first_design(node) node number 17 cur_node:<Node 261>\n",
            "InMethod best_first_design(node): explored_count:17 cur_node:<Node 261>, node_eval_time:0.000\n",
            "best_first_design(node) node number 18 cur_node:<Node 281>\n",
            "InMethod best_first_design(node): explored_count:18 cur_node:<Node 281>, node_eval_time:0.000\n",
            "best_first_design(node) node number 19 cur_node:<Node 181>\n",
            "InMethod best_first_design(node): explored_count:19 cur_node:<Node 181>, node_eval_time:0.000\n",
            "best_first_design(node) node number 20 cur_node:<Node 81>\n",
            "InMethod best_first_design(node): explored_count:20 cur_node:<Node 81>, node_eval_time:0.000\n",
            "best_first_design(node) node number 21 cur_node:<Node 61>\n",
            "InMethod best_first_design(node): explored_count:21 cur_node:<Node 61>, node_eval_time:0.000\n",
            "best_first_design(node) node number 22 cur_node:<Node 41>\n",
            "InMethod best_first_design(node): explored_count:22 cur_node:<Node 41>, node_eval_time:0.000\n",
            "best_first_design(node) node number 23 cur_node:<Node 381>\n",
            "InMethod best_first_design(node): explored_count:23 cur_node:<Node 381>, node_eval_time:0.000\n",
            "best_first_design(node) node number 24 cur_node:<Node 481>\n",
            "InMethod best_first_design(node): explored_count:24 cur_node:<Node 481>, node_eval_time:0.000\n",
            "best_first_design(node) node number 25 cur_node:<Node 461>\n",
            "InMethod best_first_design(node): explored_count:25 cur_node:<Node 461>, node_eval_time:0.000\n",
            "best_first_design(node) node number 26 cur_node:<Node 161>\n",
            "InMethod best_first_design(node): explored_count:26 cur_node:<Node 161>, node_eval_time:0.000\n",
            "best_first_design(node) node number 27 cur_node:<Node 361>\n",
            "InMethod best_first_design(node): explored_count:27 cur_node:<Node 361>, node_eval_time:0.000\n",
            "best_first_design(node) node number 28 cur_node:<Node 141>\n",
            "InMethod best_first_design(node): explored_count:28 cur_node:<Node 141>, node_eval_time:0.000\n",
            "best_first_design(node) node number 29 cur_node:<Node 341>\n",
            "InMethod best_first_design(node): explored_count:29 cur_node:<Node 341>, node_eval_time:0.000\n",
            "best_first_design(node) node number 30 cur_node:<Node 441>\n",
            "InMethod best_first_design(node): explored_count:30 cur_node:<Node 441>, node_eval_time:0.000\n",
            "best_first_design(node) node number 31 cur_node:<Node 421>\n",
            "InMethod best_first_design(node): explored_count:31 cur_node:<Node 421>, node_eval_time:0.000\n",
            "best_first_design(node) node number 32 cur_node:<Node 321>\n",
            "InMethod best_first_design(node): explored_count:32 cur_node:<Node 321>, node_eval_time:0.000\n",
            "best_first_design(node) node number 33 cur_node:<Node 101>\n",
            "InMethod best_first_design(node): explored_count:33 cur_node:<Node 101>, node_eval_time:0.000\n",
            "best_first_design(node) node number 34 cur_node:<Node 37>\n",
            "InMethod best_first_design(node): explored_count:34 cur_node:<Node 37>, node_eval_time:0.000\n",
            "best_first_design(node) node number 35 cur_node:<Node 317>\n",
            "InMethod best_first_design(node): explored_count:35 cur_node:<Node 317>, node_eval_time:0.000\n",
            "best_first_design(node) node number 36 cur_node:<Node 417>\n",
            "InMethod best_first_design(node): explored_count:36 cur_node:<Node 417>, node_eval_time:0.000\n",
            "best_first_design(node) node number 37 cur_node:<Node 409>\n",
            "InMethod best_first_design(node): explored_count:37 cur_node:<Node 409>, node_eval_time:0.000\n",
            "best_first_design(node) node number 38 cur_node:<Node 309>\n",
            "InMethod best_first_design(node): explored_count:38 cur_node:<Node 309>, node_eval_time:0.000\n",
            "best_first_design(node) node number 39 cur_node:<Node 209>\n",
            "InMethod best_first_design(node): explored_count:39 cur_node:<Node 209>, node_eval_time:0.000\n",
            "best_first_design(node) node number 40 cur_node:<Node 229>\n",
            "InMethod best_first_design(node): explored_count:40 cur_node:<Node 229>, node_eval_time:0.000\n",
            "best_first_design(node) node number 41 cur_node:<Node 249>\n",
            "InMethod best_first_design(node): explored_count:41 cur_node:<Node 249>, node_eval_time:0.000\n",
            "best_first_design(node) node number 42 cur_node:<Node 269>\n",
            "InMethod best_first_design(node): explored_count:42 cur_node:<Node 269>, node_eval_time:0.000\n",
            "best_first_design(node) node number 43 cur_node:<Node 289>\n",
            "InMethod best_first_design(node): explored_count:43 cur_node:<Node 289>, node_eval_time:0.000\n",
            "best_first_design(node) node number 44 cur_node:<Node 189>\n",
            "InMethod best_first_design(node): explored_count:44 cur_node:<Node 189>, node_eval_time:0.000\n",
            "best_first_design(node) node number 45 cur_node:<Node 89>\n",
            "InMethod best_first_design(node): explored_count:45 cur_node:<Node 89>, node_eval_time:0.000\n",
            "best_first_design(node) node number 46 cur_node:<Node 69>\n",
            "InMethod best_first_design(node): explored_count:46 cur_node:<Node 69>, node_eval_time:0.000\n",
            "best_first_design(node) node number 47 cur_node:<Node 49>\n",
            "InMethod best_first_design(node): explored_count:47 cur_node:<Node 49>, node_eval_time:0.000\n",
            "best_first_design(node) node number 48 cur_node:<Node 389>\n",
            "InMethod best_first_design(node): explored_count:48 cur_node:<Node 389>, node_eval_time:0.000\n",
            "best_first_design(node) node number 49 cur_node:<Node 489>\n",
            "InMethod best_first_design(node): explored_count:49 cur_node:<Node 489>, node_eval_time:0.000\n",
            "best_first_design(node) node number 50 cur_node:<Node 469>\n",
            "InMethod best_first_design(node): explored_count:50 cur_node:<Node 469>, node_eval_time:0.000\n",
            "best_first_design(node) node number 51 cur_node:<Node 169>\n",
            "InMethod best_first_design(node): explored_count:51 cur_node:<Node 169>, node_eval_time:0.000\n",
            "best_first_design(node) node number 52 cur_node:<Node 369>\n",
            "InMethod best_first_design(node): explored_count:52 cur_node:<Node 369>, node_eval_time:0.000\n",
            "best_first_design(node) node number 53 cur_node:<Node 149>\n",
            "InMethod best_first_design(node): explored_count:53 cur_node:<Node 149>, node_eval_time:0.000\n",
            "best_first_design(node) node number 54 cur_node:<Node 349>\n",
            "InMethod best_first_design(node): explored_count:54 cur_node:<Node 349>, node_eval_time:0.000\n",
            "best_first_design(node) node number 55 cur_node:<Node 449>\n",
            "InMethod best_first_design(node): explored_count:55 cur_node:<Node 449>, node_eval_time:0.000\n",
            "best_first_design(node) node number 56 cur_node:<Node 429>\n",
            "InMethod best_first_design(node): explored_count:56 cur_node:<Node 429>, node_eval_time:0.000\n",
            "best_first_design(node) node number 57 cur_node:<Node 129>\n",
            "InMethod best_first_design(node): explored_count:57 cur_node:<Node 129>, node_eval_time:0.000\n",
            "best_first_design(node) node number 58 cur_node:<Node 29>\n",
            "InMethod best_first_design(node): explored_count:58 cur_node:<Node 29>, node_eval_time:0.000\n",
            "best_first_design(node) node number 59 cur_node:<Node 9>\n",
            "InMethod best_first_design(node): explored_count:59 cur_node:<Node 9>, node_eval_time:0.000\n",
            "best_first_design(node) node number 60 cur_node:<Node 329>\n",
            "InMethod best_first_design(node): explored_count:60 cur_node:<Node 329>, node_eval_time:0.000\n",
            "best_first_design(node) node number 61 cur_node:<Node 109>\n",
            "InMethod best_first_design(node): explored_count:61 cur_node:<Node 109>, node_eval_time:0.000\n",
            "best_first_design(node) node number 62 cur_node:<Node 137>\n",
            "InMethod best_first_design(node): explored_count:62 cur_node:<Node 137>, node_eval_time:0.000\n",
            "best_first_design(node) node number 63 cur_node:<Node 337>\n",
            "InMethod best_first_design(node): explored_count:63 cur_node:<Node 337>, node_eval_time:0.000\n",
            "best_first_design(node) node number 64 cur_node:<Node 437>\n",
            "InMethod best_first_design(node): explored_count:64 cur_node:<Node 437>, node_eval_time:0.000\n",
            "best_first_design(node) node number 65 cur_node:<Node 457>\n",
            "InMethod best_first_design(node): explored_count:65 cur_node:<Node 457>, node_eval_time:0.000\n",
            "best_first_design(node) node number 66 cur_node:<Node 277>\n",
            "InMethod best_first_design(node): explored_count:66 cur_node:<Node 277>, node_eval_time:0.000\n",
            "best_first_design(node) node number 67 cur_node:<Node 297>\n",
            "InMethod best_first_design(node): explored_count:67 cur_node:<Node 297>, node_eval_time:0.000\n",
            "best_first_design(node) node number 68 cur_node:<Node 197>\n",
            "InMethod best_first_design(node): explored_count:68 cur_node:<Node 197>, node_eval_time:0.000\n",
            "best_first_design(node) node number 69 cur_node:<Node 397>\n",
            "InMethod best_first_design(node): explored_count:69 cur_node:<Node 397>, node_eval_time:0.000\n",
            "best_first_design(node) node number 70 cur_node:<Node 497>\n",
            "InMethod best_first_design(node): explored_count:70 cur_node:<Node 497>, node_eval_time:0.000\n",
            "best_first_design(node) node number 71 cur_node:<Node 477>\n",
            "InMethod best_first_design(node): explored_count:71 cur_node:<Node 477>, node_eval_time:0.000\n",
            "best_first_design(node) node number 72 cur_node:<Node 473>\n",
            "InMethod best_first_design(node): explored_count:72 cur_node:<Node 473>, node_eval_time:0.000\n",
            "best_first_design(node) node number 73 cur_node:<Node 493>\n",
            "InMethod best_first_design(node): explored_count:73 cur_node:<Node 493>, node_eval_time:0.000\n",
            "best_first_design(node) node number 74 cur_node:<Node 393>\n",
            "InMethod best_first_design(node): explored_count:74 cur_node:<Node 393>, node_eval_time:0.000\n",
            "best_first_design(node) node number 75 cur_node:<Node 293>\n",
            "InMethod best_first_design(node): explored_count:75 cur_node:<Node 293>, node_eval_time:0.000\n",
            "best_first_design(node) node number 76 cur_node:<Node 273>\n",
            "InMethod best_first_design(node): explored_count:76 cur_node:<Node 273>, node_eval_time:0.000\n",
            "best_first_design(node) node number 77 cur_node:<Node 253>\n",
            "InMethod best_first_design(node): explored_count:77 cur_node:<Node 253>, node_eval_time:0.000\n",
            "best_first_design(node) node number 78 cur_node:<Node 233>\n",
            "InMethod best_first_design(node): explored_count:78 cur_node:<Node 233>, node_eval_time:0.000\n",
            "best_first_design(node) node number 79 cur_node:<Node 213>\n",
            "InMethod best_first_design(node): explored_count:79 cur_node:<Node 213>, node_eval_time:0.000\n",
            "best_first_design(node) node number 80 cur_node:<Node 113>\n",
            "InMethod best_first_design(node): explored_count:80 cur_node:<Node 113>, node_eval_time:0.000\n",
            "best_first_design(node) node number 81 cur_node:<Node 13>\n",
            "InMethod best_first_design(node): explored_count:81 cur_node:<Node 13>, node_eval_time:0.000\n",
            "best_first_design(node) node number 82 cur_node:<Node 33>\n",
            "InMethod best_first_design(node): explored_count:82 cur_node:<Node 33>, node_eval_time:0.000\n",
            "best_first_design(node) node number 83 cur_node:<Node 313>\n",
            "InMethod best_first_design(node): explored_count:83 cur_node:<Node 313>, node_eval_time:0.000\n",
            "best_first_design(node) node number 84 cur_node:<Node 413>\n",
            "InMethod best_first_design(node): explored_count:84 cur_node:<Node 413>, node_eval_time:0.000\n",
            "best_first_design(node) node number 85 cur_node:<Node 133>\n",
            "InMethod best_first_design(node): explored_count:85 cur_node:<Node 133>, node_eval_time:0.000\n",
            "best_first_design(node) node number 86 cur_node:<Node 333>\n",
            "InMethod best_first_design(node): explored_count:86 cur_node:<Node 333>, node_eval_time:0.000\n",
            "best_first_design(node) node number 87 cur_node:<Node 433>\n",
            "InMethod best_first_design(node): explored_count:87 cur_node:<Node 433>, node_eval_time:0.000\n",
            "best_first_design(node) node number 88 cur_node:<Node 453>\n",
            "InMethod best_first_design(node): explored_count:88 cur_node:<Node 453>, node_eval_time:0.000\n",
            "best_first_design(node) node number 89 cur_node:<Node 153>\n",
            "InMethod best_first_design(node): explored_count:89 cur_node:<Node 153>, node_eval_time:0.000\n",
            "best_first_design(node) node number 90 cur_node:<Node 53>\n",
            "InMethod best_first_design(node): explored_count:90 cur_node:<Node 53>, node_eval_time:0.000\n",
            "best_first_design(node) node number 91 cur_node:<Node 73>\n",
            "InMethod best_first_design(node): explored_count:91 cur_node:<Node 73>, node_eval_time:0.000\n",
            "best_first_design(node) node number 92 cur_node:<Node 93>\n",
            "InMethod best_first_design(node): explored_count:92 cur_node:<Node 93>, node_eval_time:0.000\n",
            "best_first_design(node) node number 93 cur_node:<Node 353>\n",
            "InMethod best_first_design(node): explored_count:93 cur_node:<Node 353>, node_eval_time:0.000\n",
            "best_first_design(node) node number 94 cur_node:<Node 173>\n",
            "InMethod best_first_design(node): explored_count:94 cur_node:<Node 173>, node_eval_time:0.000\n",
            "best_first_design(node) node number 95 cur_node:<Node 193>\n",
            "InMethod best_first_design(node): explored_count:95 cur_node:<Node 193>, node_eval_time:0.000\n",
            "best_first_design(node) node number 96 cur_node:<Node 373>\n",
            "InMethod best_first_design(node): explored_count:96 cur_node:<Node 373>, node_eval_time:0.000\n",
            "best_first_design(node) node number 97 cur_node:<Node 377>\n",
            "InMethod best_first_design(node): explored_count:97 cur_node:<Node 377>, node_eval_time:0.000\n",
            "best_first_design(node) node number 98 cur_node:<Node 357>\n",
            "InMethod best_first_design(node): explored_count:98 cur_node:<Node 357>, node_eval_time:0.000\n",
            "best_first_design(node) node number 99 cur_node:<Node 97>\n",
            "InMethod best_first_design(node): explored_count:99 cur_node:<Node 97>, node_eval_time:0.000\n",
            "best_first_design(node) node number 100 cur_node:<Node 85>\n",
            "InMethod best_first_design(node): explored_count:100 cur_node:<Node 85>, node_eval_time:0.000\n",
            "solution is: ['2', '5']\n",
            "['2', '5']\n",
            "+---------+\n",
            "|R: | : :\u001b[35m\u001b[42mG\u001b[0m\u001b[0m|\n",
            "| : | : : |\n",
            "| : : : : |\n",
            "| | : | : |\n",
            "|Y| : |B: |\n",
            "+---------+\n",
            "  (East)\n",
            "+---------+\n",
            "|R: | : :\u001b[35m\u001b[34;1m\u001b[43mG\u001b[0m\u001b[0m\u001b[0m|\n",
            "| : | : : |\n",
            "| : : : : |\n",
            "| | : | : |\n",
            "|Y| : |B: |\n",
            "+---------+\n",
            "  (Dropoff)\n"
          ]
        }
      ]
    },
    {
      "cell_type": "markdown",
      "source": [
        "and now let's run DFS-L"
      ],
      "metadata": {
        "id": "sATJE1x_7fO6"
      }
    },
    {
      "cell_type": "code",
      "source": [
        "taxi_env = create_env()\n",
        "# create a wrapper of the environment to the search\n",
        "taxi_p = GymProblem(taxi_env, taxi_env.unwrapped.s)\n",
        "\n",
        "# perform DFS\n",
        "[best_value, best_node, best_plan, explored_count, ex_terminated] = depth_first_search_l(problem=taxi_p,\n",
        "                                                                                       max_depth=2,\n",
        "                                                                                       log=True,\n",
        "                                                                                       log_file=None,\n",
        "                                                                                       iter_limit=defs.NA,\n",
        "                                                                                       time_limit=defs.NA,\n",
        "                                                                                       )\n",
        "\n",
        "print(best_plan)\n",
        "for action_id in best_plan:\n",
        "    taxi_p.apply_action(action_id)\n",
        "    taxi_p.env.render()"
      ],
      "metadata": {
        "colab": {
          "base_uri": "https://localhost:8080/"
        },
        "id": "MpXQvI5J7bfR",
        "outputId": "d5d6d285-a12f-4c28-962b-4b744a95abcf"
      },
      "execution_count": 15,
      "outputs": [
        {
          "output_type": "stream",
          "name": "stdout",
          "text": [
            "0\n",
            "State: 77\n",
            "+---------+\n",
            "|R: | :\u001b[42m_\u001b[0m:\u001b[35mG\u001b[0m|\n",
            "| : | : : |\n",
            "| : : : : |\n",
            "| | : | : |\n",
            "|Y| : |B: |\n",
            "+---------+\n",
            "\n",
            "best_first_design(node) node number 1 cur_node:<Node 77>\n",
            "InMethod best_first_design(node): explored_count:1 cur_node:<Node 77>, node_eval_time:0.000\n",
            "best_first_design(node) node number 2 cur_node:<Node 57>\n",
            "InMethod best_first_design(node): explored_count:2 cur_node:<Node 57>, node_eval_time:0.000\n",
            "best_first_design(node) node number 3 cur_node:<Node 97>\n",
            "InMethod best_first_design(node): explored_count:3 cur_node:<Node 97>, node_eval_time:0.000\n",
            "best_first_design(node) node number 4 cur_node:<Node 177>\n",
            "InMethod best_first_design(node): explored_count:4 cur_node:<Node 177>, node_eval_time:0.000\n",
            "solution is: []\n",
            "[]\n"
          ]
        }
      ]
    },
    {
      "cell_type": "markdown",
      "source": [
        "Finally, let's see how A-Star works on the same problem (with a ridiculously simple heuristic that gives 0 to terminal nodes and 1 to all other nodes):"
      ],
      "metadata": {
        "id": "qkX5s0O2Brzc"
      }
    },
    {
      "cell_type": "code",
      "source": [
        "taxi_env = create_env()\n",
        "\n",
        "# create a wrapper of the environment to the search\n",
        "taxi_p = GymProblem(taxi_env, taxi_env.unwrapped.s)\n",
        "\n",
        "# perform A*\n",
        "[best_value, best_node, best_plan, explored_count, ex_terminated] = best_first_search(problem=taxi_p,\n",
        "                                                                                      frontier=utils.PriorityQueue(heuristic.goal_heuristic),\n",
        "                                                                                      closed_list=utils.ClosedListOfKeys(),\n",
        "                                                                                      termination_criteria=utils.TerminationCriteriaGoalStateReached(),\n",
        "                                                                                      evaluation_criteria=utils.EvaluationCriteriaGoalCondition(),\n",
        "                                                                                      prune_func=None,\n",
        "                                                                                      log=True, \n",
        "                                                                                      log_file=None,\n",
        "                                                                                      iter_limit=defs.NA,\n",
        "                                                                                      time_limit=defs.NA,\n",
        "                                                                                      )\n",
        "\n",
        "print(best_plan)\n",
        "for action_id in best_plan:\n",
        "    taxi_p.apply_action(action_id)\n",
        "    taxi_p.env.render()"
      ],
      "metadata": {
        "id": "7Pk-Gvov6hue",
        "colab": {
          "base_uri": "https://localhost:8080/"
        },
        "outputId": "5ae77142-bcb2-40fb-bd5d-0890709fcad9"
      },
      "execution_count": 9,
      "outputs": [
        {
          "output_type": "stream",
          "name": "stdout",
          "text": [
            "0\n",
            "State: 77\n",
            "+---------+\n",
            "|R: | :\u001b[42m_\u001b[0m:\u001b[35mG\u001b[0m|\n",
            "| : | : : |\n",
            "| : : : : |\n",
            "| | : | : |\n",
            "|Y| : |B: |\n",
            "+---------+\n",
            "\n",
            "best_first_design(node) node number 1 cur_node:<Node 77>\n",
            "InMethod best_first_design(node): explored_count:1 cur_node:<Node 77>, node_eval_time:0.000\n",
            "best_first_design(node) node number 2 cur_node:<Node 57>\n",
            "InMethod best_first_design(node): explored_count:2 cur_node:<Node 57>, node_eval_time:0.000\n",
            "best_first_design(node) node number 3 cur_node:<Node 97>\n",
            "InMethod best_first_design(node): explored_count:3 cur_node:<Node 97>, node_eval_time:0.000\n",
            "best_first_design(node) node number 4 cur_node:<Node 85>\n",
            "InMethod best_first_design(node): explored_count:4 cur_node:<Node 85>, node_eval_time:0.000\n",
            "solution is: ['2', '5']\n",
            "['2', '5']\n",
            "+---------+\n",
            "|R: | : :\u001b[35m\u001b[42mG\u001b[0m\u001b[0m|\n",
            "| : | : : |\n",
            "| : : : : |\n",
            "| | : | : |\n",
            "|Y| : |B: |\n",
            "+---------+\n",
            "  (East)\n",
            "+---------+\n",
            "|R: | : :\u001b[35m\u001b[34;1m\u001b[43mG\u001b[0m\u001b[0m\u001b[0m|\n",
            "| : | : : |\n",
            "| : : : : |\n",
            "| | : | : |\n",
            "|Y| : |B: |\n",
            "+---------+\n",
            "  (Dropoff)\n"
          ]
        }
      ]
    },
    {
      "cell_type": "markdown",
      "source": [
        "Now it's your time to suggest new algorithms.."
      ],
      "metadata": {
        "id": "tauuB-SKD2Eq"
      }
    },
    {
      "cell_type": "code",
      "source": [
        ""
      ],
      "metadata": {
        "id": "iurEzoTxD8aW"
      },
      "execution_count": null,
      "outputs": []
    }
  ]
}